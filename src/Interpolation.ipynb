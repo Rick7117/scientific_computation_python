{
 "cells": [
  {
   "cell_type": "markdown",
   "metadata": {},
   "source": [
    "#### ex 1:\n",
    "##### 对 Runge 函数：\n",
    "$$\n",
    "R(x) = \\frac{1}{1+x^2},\\quad x\\in[-5,5]\n",
    "$$\n",
    "##### 利用下列条件做插值、逼近并与 $R(x)$ 的图像进行比较\n",
    "##### (1) 用等距节点 $x_i = -5 + i \\; (i = 0, 1, \\cdots, 10)$, 绘出它的 10 次  Newton 插值多项式的图像;\n",
    "##### (2) 用节点 $x_i = 5 \\cos \\left ( \\frac{2i+1}{42} \\pi \\right ) \\; (i = 0, 1, \\cdots, 20)$, 绘出它的 20 次 Lagrange 插值多项式的图像;\n",
    "##### (3) 用等距节点 $x_i = -5 + i \\; (i = 0, 1, \\cdots, 10)$, 绘出它的分段线性插值函数的图像."
   ]
  },
  {
   "cell_type": "markdown",
   "metadata": {},
   "source": [
    "\n",
    "##### Newton interpolation \n",
    "$$\n",
    "f(x) \\approx N_n(x) = f[x_0] + f[x_0, x_1] (x - x_0) + \\cdots + f[x_0, x_1, \\cdots, x_{n-1}] (x - x_0)(x - x_1) \\cdots (x - x_{n-1}).\n",
    "$$\n",
    "\n",
    "##### *Remark*:\n",
    "$$\n",
    "f[x_0, x_1, \\cdots, x_k] = \\sum_{j = 0}^k \\frac{f(x_j)}{(x_j - x_0)(x_j - x_1) \\cdots (x_j - x_{j-1})(x_j - x_{j+1}) \\cdots (x_j - x_k)}.\n",
    "$$\n",
    "\n",
    "##### Lagrange interpolation\n",
    "$$\n",
    "f(x) \\approx L_n(x) = \\sum_{i = 0}^n f(x_i) l_i(x) \\quad \\text{with} \\quad l_i(x) = \\prod_{j \\neq i} \\frac{x - x_j}{x_i - x_j}\n",
    "$$"
   ]
  },
  {
   "cell_type": "code",
   "execution_count": 1,
   "metadata": {},
   "outputs": [
    {
     "name": "stdout",
     "output_type": "stream",
     "text": [
      "file make direction sucessfully!\n"
     ]
    }
   ],
   "source": [
    "%matplotlib inline\n",
    "\n",
    "import numpy as np\n",
    "import matplotlib.pyplot as plt\n",
    "\n",
    "from make_dir import mkdir\n",
    "mkdir(file_dir=\"./figure\")"
   ]
  },
  {
   "cell_type": "code",
   "execution_count": 2,
   "metadata": {},
   "outputs": [],
   "source": [
    "def R(x):\n",
    "    return 1.0 / (1.0 + x**2)"
   ]
  },
  {
   "cell_type": "code",
   "execution_count": 3,
   "metadata": {},
   "outputs": [],
   "source": [
    "def newton_interp(grids, x):\n",
    "    \n",
    "    grid_x, grid_y = grids\n",
    "    if len(grid_x) != len(grid_y):\n",
    "        print(\"Error: Length of grid_x and grid_y must be the same !\")\n",
    "    \n",
    "    else:\n",
    "        newton_sum, basis_func = 0.0, 1.0\n",
    "        for i in range(len(grid_x)): \n",
    "            coef = 0.0\n",
    "            for j in range(i + 1):\n",
    "                g = 1.0\n",
    "                for k in range(i + 1):\n",
    "                    if k != j:\n",
    "                        dist = grid_x[j] - grid_x[k]\n",
    "                        if abs(dist) > 1.0e-8:\n",
    "                            g *= dist\n",
    "                        else: # can be optimized\n",
    "                            print(\"[Error: The distance between x_{:d} and x_{:d} are too small !]\".format(k, j))\n",
    "            \n",
    "                coef += grid_y[j] / g\n",
    "            newton_sum += coef * basis_func\n",
    "            basis_func *= x - grid_x[i]  \n",
    "\n",
    "        return newton_sum"
   ]
  },
  {
   "cell_type": "code",
   "execution_count": 4,
   "metadata": {},
   "outputs": [],
   "source": [
    "def _newton_interp(grids, x):\n",
    "    \n",
    "    grid_x, grid_y = grids\n",
    "    size_x = len(grid_x)\n",
    "\n",
    "    D = np.zeros((size_x, size_x))\n",
    "    D[:, 0] = grid_y\n",
    "    for j in range(1, size_x):\n",
    "        for k in range(j, size_x):\n",
    "            D[k, j] = (D[k, j-1] - D[k-1, j-1]) / (grid_x[k] - grid_x[k-j])\n",
    "\n",
    "    newton_sum, basis_func = 0.0, 1.0\n",
    "    for i in range(size_x):\n",
    "        newton_sum += D[i, i] * basis_func\n",
    "        basis_func *= x - grid_x[i]    \n",
    "    \n",
    "    return newton_sum\n",
    "        "
   ]
  },
  {
   "cell_type": "code",
   "execution_count": 5,
   "metadata": {},
   "outputs": [],
   "source": [
    "x = np.linspace(-5, 5, 11)\n",
    "xx = np.linspace(-5, 5, 101)"
   ]
  },
  {
   "cell_type": "code",
   "execution_count": 6,
   "metadata": {},
   "outputs": [
    {
     "name": "stdout",
     "output_type": "stream",
     "text": [
      "213 µs ± 11.7 µs per loop (mean ± std. dev. of 7 runs, 1000 loops each)\n"
     ]
    }
   ],
   "source": [
    "# magic func\n",
    "%timeit newton_interp(grids = [x, R(x)], x = xx)"
   ]
  },
  {
   "cell_type": "code",
   "execution_count": 8,
   "metadata": {},
   "outputs": [
    {
     "data": {
      "text/plain": [
       "array([ 0.03846154,  1.23031656,  1.80438546,  1.95895184,  1.84584537,\n",
       "        1.57872099,  1.24021349,  0.88808115,  0.56044444,  0.28021759,\n",
       "        0.05882353, -0.10072426, -0.20129636, -0.24960819, -0.25460267,\n",
       "       -0.22619629, -0.17433546, -0.10831517, -0.03631685,  0.03487332,\n",
       "        0.1       ,  0.15535857,  0.19872622,  0.22922733,  0.24715355,\n",
       "        0.25375546,  0.25102057,  0.24144943,  0.2278397 ,  0.21308581,\n",
       "        0.2       ,  0.1911589 ,  0.18877837,  0.19461783,  0.2099145 ,\n",
       "        0.23534659,  0.27102411,  0.31650482,  0.37083275,  0.43259596,\n",
       "        0.5       ,  0.5709536 ,  0.64316255,  0.71422826,  0.78174713,\n",
       "        0.84340743,  0.89708035,  0.9409023 ,  0.97334592,  0.99327763,\n",
       "        1.        ,  0.99327763,  0.97334592,  0.9409023 ,  0.89708035,\n",
       "        0.84340743,  0.78174713,  0.71422826,  0.64316255,  0.5709536 ,\n",
       "        0.5       ,  0.43259596,  0.37083275,  0.31650482,  0.27102411,\n",
       "        0.23534659,  0.2099145 ,  0.19461783,  0.18877837,  0.1911589 ,\n",
       "        0.2       ,  0.21308581,  0.2278397 ,  0.24144943,  0.25102057,\n",
       "        0.25375546,  0.24715355,  0.22922733,  0.19872622,  0.15535857,\n",
       "        0.1       ,  0.03487332, -0.03631685, -0.10831517, -0.17433546,\n",
       "       -0.22619629, -0.25460267, -0.24960819, -0.20129636, -0.10072426,\n",
       "        0.05882353,  0.28021759,  0.56044444,  0.88808115,  1.24021349,\n",
       "        1.57872099,  1.84584537,  1.95895184,  1.80438546,  1.23031656,\n",
       "        0.03846154])"
      ]
     },
     "execution_count": 8,
     "metadata": {},
     "output_type": "execute_result"
    }
   ],
   "source": [
    "# newton_interp(grids = [x, R(x)], x = xx) # ctrl + /"
   ]
  },
  {
   "cell_type": "code",
   "execution_count": 9,
   "metadata": {},
   "outputs": [
    {
     "data": {
      "text/plain": [
       "array([ 0.03846154,  1.23031656,  1.80438546,  1.95895184,  1.84584537,\n",
       "        1.57872099,  1.24021349,  0.88808115,  0.56044444,  0.28021759,\n",
       "        0.05882353, -0.10072426, -0.20129636, -0.24960819, -0.25460267,\n",
       "       -0.22619629, -0.17433546, -0.10831517, -0.03631685,  0.03487332,\n",
       "        0.1       ,  0.15535857,  0.19872622,  0.22922733,  0.24715355,\n",
       "        0.25375546,  0.25102057,  0.24144943,  0.2278397 ,  0.21308581,\n",
       "        0.2       ,  0.1911589 ,  0.18877837,  0.19461783,  0.2099145 ,\n",
       "        0.23534659,  0.27102411,  0.31650482,  0.37083275,  0.43259596,\n",
       "        0.5       ,  0.5709536 ,  0.64316255,  0.71422826,  0.78174713,\n",
       "        0.84340743,  0.89708035,  0.9409023 ,  0.97334592,  0.99327763,\n",
       "        1.        ,  0.99327763,  0.97334592,  0.9409023 ,  0.89708035,\n",
       "        0.84340743,  0.78174713,  0.71422826,  0.64316255,  0.5709536 ,\n",
       "        0.5       ,  0.43259596,  0.37083275,  0.31650482,  0.27102411,\n",
       "        0.23534659,  0.2099145 ,  0.19461783,  0.18877837,  0.1911589 ,\n",
       "        0.2       ,  0.21308581,  0.2278397 ,  0.24144943,  0.25102057,\n",
       "        0.25375546,  0.24715355,  0.22922733,  0.19872622,  0.15535857,\n",
       "        0.1       ,  0.03487332, -0.03631685, -0.10831517, -0.17433546,\n",
       "       -0.22619629, -0.25460267, -0.24960819, -0.20129636, -0.10072426,\n",
       "        0.05882353,  0.28021759,  0.56044444,  0.88808115,  1.24021349,\n",
       "        1.57872099,  1.84584537,  1.95895184,  1.80438546,  1.23031656,\n",
       "        0.03846154])"
      ]
     },
     "execution_count": 9,
     "metadata": {},
     "output_type": "execute_result"
    }
   ],
   "source": [
    "# _newton_interp(grids = [x, R(x)], x = xx)"
   ]
  },
  {
   "cell_type": "code",
   "execution_count": 7,
   "metadata": {},
   "outputs": [
    {
     "name": "stdout",
     "output_type": "stream",
     "text": [
      "78.9 µs ± 632 ns per loop (mean ± std. dev. of 7 runs, 10000 loops each)\n"
     ]
    }
   ],
   "source": [
    "%timeit _newton_interp(grids = [x, R(x)], x = xx)"
   ]
  },
  {
   "cell_type": "code",
   "execution_count": 10,
   "metadata": {},
   "outputs": [
    {
     "data": {
      "text/plain": [
       "1.6342482922482304e-13"
      ]
     },
     "execution_count": 10,
     "metadata": {},
     "output_type": "execute_result"
    }
   ],
   "source": [
    "max(abs(_newton_interp(grids = [x, R(x)], x = xx) - newton_interp(grids = [x, R(x)], x = xx)))"
   ]
  },
  {
   "cell_type": "code",
   "execution_count": 11,
   "metadata": {},
   "outputs": [
    {
     "data": {
      "image/png": "[encoded data removed]",
      "text/plain": [
       "<Figure size 432x288 with 1 Axes>"
      ]
     },
     "metadata": {},
     "output_type": "display_data"
    }
   ],
   "source": [
    "x = np.linspace(-5, 5, 11)\n",
    "# x = 5.0 * np.cos((2.0*x + 1.0) / 42.0 * np.pi)\n",
    "xx = np.linspace(-5, 5, 101)\n",
    "y = _newton_interp(grids = [x, R(x)], x = xx)\n",
    "plt.style.use(\"seaborn-dark\") \n",
    "fig = plt.figure()\n",
    "plt.plot(x, R(x), color = \"r\", linewidth = 0.0, marker = \"x\", label = \"grids\")\n",
    "plt.plot(xx, y, color = \"b\", linewidth = 1.0, linestyle = 'dashed', label = \"$N_n(x) \\; (n = 10)$\")\n",
    "plt.plot(xx, R(xx), color = \"k\", label = \"$R(x) = 1 / (1+x^2)$\")\n",
    "plt.xlabel(\"$x$\")\n",
    "plt.ylabel(\"$y$\")\n",
    "plt.grid()\n",
    "plt.legend()\n",
    "# plt.savefig(\"./figure/newton_interpolation.pdf\")\n",
    "plt.show()"
   ]
  },
  {
   "cell_type": "code",
   "execution_count": 12,
   "metadata": {},
   "outputs": [],
   "source": [
    "def lagrange_interp(grids, x): \n",
    "\n",
    "    grid_x, grid_y = grids\n",
    "    if len(grid_x) != len(grid_x):\n",
    "        print(\"Error: Length of grid_x and grid_y must be the same !\")\n",
    "        \n",
    "    else:\n",
    "        lagrange_sum = 0.0\n",
    "        length = len(grid_x)\n",
    "        for i in range(length):\n",
    "            x_i = grid_x[i]\n",
    "            basis_func = 1.0\n",
    "            for j in range(length):\n",
    "                if (i != j):\n",
    "                    dist = x_i - grid_x[j] \n",
    "                    if abs(dist) > 1.0e-8:\n",
    "                        basis_func *= (x - grid_x[j]) / dist\n",
    "                    else: # can be optimized\n",
    "                        print(\"[Error: The distance between x_{:d} and x_{:d} are too small !]\".format(i, j))\n",
    "                        \n",
    "            lagrange_sum += grid_y[i] * basis_func\n",
    "\n",
    "        return lagrange_sum"
   ]
  },
  {
   "cell_type": "code",
   "execution_count": 13,
   "metadata": {},
   "outputs": [
    {
     "data": {
      "image/png": "[encoded data removed]",
      "text/plain": [
       "<Figure size 432x288 with 1 Axes>"
      ]
     },
     "metadata": {},
     "output_type": "display_data"
    }
   ],
   "source": [
    "index = np.linspace(0, 20, 21)\n",
    "x = 5.0 * np.cos((2.0*index + 1.0) / 42.0 * np.pi)\n",
    "xx = np.linspace(-5, 5, 101)\n",
    "y = lagrange_interp(grids = [x, R(x)], x = xx)\n",
    "plt.style.use(\"seaborn-dark\") \n",
    "fig = plt.figure()\n",
    "plt.plot(x, R(x), color = \"r\", linewidth = 0.0, marker = \"x\", label = \"grids\")\n",
    "plt.plot(xx, y, color = \"b\", linewidth = 1.0, linestyle = 'dashed', label = \"$L_n(x) \\; (n = 20)$\")\n",
    "plt.plot(xx, R(xx), color = \"k\", label = \"$R(x) = 1 / (1+x^2)$\")\n",
    "plt.xlabel(\"$x$\")\n",
    "plt.ylabel(\"$y$\")\n",
    "plt.grid()\n",
    "plt.legend()\n",
    "# plt.savefig(\"./figure/lagrange_interpolation.pdf\")\n",
    "plt.show()"
   ]
  },
  {
   "cell_type": "code",
   "execution_count": 14,
   "metadata": {},
   "outputs": [],
   "source": [
    "def linear_interp(grids, x):\n",
    "    grid_x, grid_y = grids\n",
    "    if len(grid_x) != len(grid_x):\n",
    "        print(\"Error: Length of grid_x and grid_y must be the same !\")\n",
    "        \n",
    "    else:\n",
    "        order = np.argsort(grid_x)\n",
    "        grid_x, grid_y = grid_x[order], grid_y[order]\n",
    "        \n",
    "        linear_sum = 0.0\n",
    "        for i in range(len(grid_x)-1):\n",
    "            dist = grid_x[i+1] - grid_x[i]\n",
    "            if abs(dist) > 1.0e-8:\n",
    "                basis_func = (grid_y[i] * (grid_x[i+1] - x) + grid_y[i+1] * (x - grid_x[i])) / (grid_x[i+1] - grid_x[i])\n",
    "                func = lambda x: 1 if (x < grid_x[i+1] and x >= grid_x[i]) else 0.0\n",
    "                cond = np.array(list(map(func, x)))\n",
    "                linear_sum += basis_func * cond\n",
    "            else: # can be optimized\n",
    "                print(\"[Error: The distance between x_{:d} and x_{:d} are too small !]\".format(i, i+1))\n",
    "\n",
    "        return linear_sum"
   ]
  },
  {
   "cell_type": "code",
   "execution_count": 15,
   "metadata": {},
   "outputs": [
    {
     "data": {
      "image/png": "[encoded data removed]",
      "text/plain": [
       "<Figure size 432x288 with 1 Axes>"
      ]
     },
     "metadata": {},
     "output_type": "display_data"
    }
   ],
   "source": [
    "x = np.linspace(-5, 5, 11)\n",
    "xx = np.linspace(-5, 5, 101)\n",
    "y = linear_interp(grids = [x, R(x)], x = xx)\n",
    "plt.style.use(\"seaborn-dark\") \n",
    "fig = plt.figure()\n",
    "plt.plot(x, R(x), color = \"r\", linewidth = 0.0, marker = \"x\", label = \"grids\")\n",
    "plt.plot(xx, y, color = \"r\", linewidth = 1.0, linestyle = 'dashed', label = \"$Linear(x) \\; (n = 10)$\")\n",
    "plt.plot(xx, R(xx), color = \"k\", label = \"$R(x) = 1 / (1+x^2)$\")\n",
    "plt.xlabel(\"$x$\")\n",
    "plt.ylabel(\"$y$\")\n",
    "plt.grid()\n",
    "plt.legend()\n",
    "# plt.savefig(\"./figure/linear_interpolation.pdf\")\n",
    "plt.show()"
   ]
  },
  {
   "cell_type": "code",
   "execution_count": null,
   "metadata": {},
   "outputs": [],
   "source": []
  },
  {
   "cell_type": "code",
   "execution_count": null,
   "metadata": {},
   "outputs": [],
   "source": []
  }
 ],
 "metadata": {
  "interpreter": {
   "hash": "7d5869e11385f44a167fd3d2cdea0e1e5c43dad84bdba40735d97de09139fbff"
  },
  "kernelspec": {
   "display_name": "Python 3.8.0 ('pytorch')",
   "language": "python",
   "name": "python3"
  },
  "language_info": {
   "codemirror_mode": {
    "name": "ipython",
    "version": 3
   },
   "file_extension": ".py",
   "mimetype": "text/x-python",
   "name": "python",
   "nbconvert_exporter": "python",
   "pygments_lexer": "ipython3",
   "version": "3.9.7"
  },
  "orig_nbformat": 4
 },
 "nbformat": 4,
 "nbformat_minor": 2
}
